{
 "cells": [
  {
   "cell_type": "markdown",
   "id": "a70a9ee9",
   "metadata": {},
   "source": [
    "# 文本"
   ]
  },
  {
   "cell_type": "code",
   "execution_count": 13,
   "id": "1ad7aadc",
   "metadata": {},
   "outputs": [],
   "source": [
    "import os\n",
    "import csv\n",
    "\n",
    "# 创建输出CSV文件并写入列名\n",
    "csv_file = open(\"detail_0901.csv\", \"w\", newline='', encoding='utf-8')\n",
    "writer = csv.writer(csv_file)\n",
    "writer.writerow(['用户名', '笔记标题', '笔记描述', '笔记时间', '笔记地点', 'note_id'])\n",
    "\n",
    "# 递归遍历文件夹\n",
    "def process_folder(folder_path):\n",
    "    # 遍历文件夹中的文件和子文件夹\n",
    "    for root, dirs, files in os.walk(folder_path):\n",
    "        for file in files:\n",
    "            if file == 'detail.txt':  # 只处理名为 detail.txt 的文件\n",
    "                file_path = os.path.join(root, file)\n",
    "\n",
    "                with open(file_path, \"r\", encoding='utf-8') as txt_file:\n",
    "                    content = txt_file.read()\n",
    "\n",
    "                    # 解析用户名\n",
    "                    username = ''\n",
    "                    if '用户名:' in content:\n",
    "                        username = content.split('用户名:')[1].split('\\n')[0].strip()\n",
    "\n",
    "                    # 解析笔记标题\n",
    "                    note_title = content.split('笔记标题:')[1].split('\\n')[0].strip()\n",
    "\n",
    "                    # 解析笔记描述\n",
    "                    note_description = content.split('笔记描述:')[1].split('\\n')[0].strip()\n",
    "\n",
    "                    # 解析笔记时间\n",
    "                    note_time = content.split('笔记时间:')[1].split('\\n')[0].strip()\n",
    "\n",
    "                    # 解析笔记地点\n",
    "                    note_location = content.split('笔记地点:')[1].split('\\n')[0].strip()\n",
    "\n",
    "                    # 获取note_id（上一级文件夹的名称）\n",
    "                    note_id = os.path.basename(os.path.dirname(file_path))\n",
    "\n",
    "                    # 写入CSV文件\n",
    "                    writer.writerow([username, note_title, note_description, note_time, note_location, note_id])\n",
    "\n",
    "        for folder in dirs:\n",
    "            subfolder_path = os.path.join(root, folder)\n",
    "            process_folder(subfolder_path)  # 递归处理子文件夹\n",
    "\n",
    "# 调用递归函数开始处理文件夹\n",
    "root_folder = '/Users/tianyc/Documents/python/xiaohongshu/Spider_detail/datas1/normal'  # 替换成存放 detail.txt 文件的根文件夹路径\n",
    "process_folder(root_folder)\n",
    "\n",
    "# 关闭CSV文件\n",
    "csv_file.close()\n"
   ]
  },
  {
   "cell_type": "markdown",
   "id": "304906b7",
   "metadata": {},
   "source": [
    "# 图片"
   ]
  },
  {
   "cell_type": "code",
   "execution_count": 2,
   "id": "dbe3bca9",
   "metadata": {},
   "outputs": [],
   "source": [
    "import os\n",
    "import shutil\n",
    "\n",
    "source_folder = '/Users/tianyc/Documents/python/xiaohongshu/Spider_detail/datas/normal'\n",
    "destination_folder = '/Users/tianyc/Desktop/normal'\n",
    "\n",
    "for root, dirs, files in os.walk(source_folder):\n",
    "    for file in files:\n",
    "        # 确保只处理图片文件（可以根据实际需要修改）\n",
    "        if file.endswith(('.jpg', '.jpeg', '.png')):\n",
    "            parent_folder_name = os.path.basename(root)\n",
    "            file_path = os.path.join(root, file)\n",
    "            new_folder_path = os.path.join(destination_folder, parent_folder_name + '_' + file)\n",
    "\n",
    "            # 复制文件到目标文件夹中的新路径\n",
    "            shutil.copy2(file_path, new_folder_path)"
   ]
  },
  {
   "cell_type": "code",
   "execution_count": 2,
   "id": "49992e1c",
   "metadata": {},
   "outputs": [
    {
     "name": "stdout",
     "output_type": "stream",
     "text": [
      "Copied 1180 files to /Users/tianyc/Desktop/digital_nomad/images/split_folder_5/split_folder_5_1\n",
      "Copied 1180 files to /Users/tianyc/Desktop/digital_nomad/images/split_folder_5/split_folder_5_2\n",
      "Copied 1180 files to /Users/tianyc/Desktop/digital_nomad/images/split_folder_5/split_folder_5_3\n",
      "Copied 1180 files to /Users/tianyc/Desktop/digital_nomad/images/split_folder_5/split_folder_5_4\n",
      "Copied 1183 files to /Users/tianyc/Desktop/digital_nomad/images/split_folder_5/split_folder_5_5\n"
     ]
    }
   ],
   "source": [
    "import os\n",
    "import shutil\n",
    "\n",
    "def split_folder_files(source_folder, target_folder, num_splits=5):\n",
    "    # 确保目标文件夹存在\n",
    "    if not os.path.exists(target_folder):\n",
    "        os.makedirs(target_folder)\n",
    "    \n",
    "    # 获取源文件夹中的所有文件\n",
    "    file_list = os.listdir(source_folder)\n",
    "    file_count = len(file_list)\n",
    "    \n",
    "    # 计算每个子文件夹应该包含的文件数量\n",
    "    files_per_split = file_count // num_splits\n",
    "\n",
    "    # 复制文件到每个子文件夹\n",
    "    for i in range(num_splits):\n",
    "        # 创建子文件夹\n",
    "        split_folder = os.path.join(target_folder, f\"split_folder_5_{i+1}\")\n",
    "        if not os.path.exists(split_folder):\n",
    "            os.makedirs(split_folder)\n",
    "\n",
    "        # 根据索引获取要复制的文件列表\n",
    "        start = i * files_per_split\n",
    "        end = start + files_per_split\n",
    "        if i == num_splits - 1:\n",
    "            end = file_count\n",
    "        files_to_copy = file_list[start:end]\n",
    "\n",
    "        # 复制文件\n",
    "        for filename in files_to_copy:\n",
    "            source_path = os.path.join(source_folder, filename)\n",
    "            target_path = os.path.join(split_folder, filename)\n",
    "            shutil.copy2(source_path, target_path)\n",
    "\n",
    "        print(f\"Copied {len(files_to_copy)} files to {split_folder}\")\n",
    "\n",
    "if __name__ == \"__main__\":\n",
    "    source_folder = \"/Users/tianyc/Desktop/digital_nomad/images/split_folders/split_5\"\n",
    "    target_folder = \"/Users/tianyc/Desktop/digital_nomad/images/split_folder_5\"\n",
    "\n",
    "    split_folder_files(source_folder, target_folder, num_splits=5)\n"
   ]
  },
  {
   "cell_type": "code",
   "execution_count": null,
   "id": "1d4abcd2",
   "metadata": {},
   "outputs": [],
   "source": []
  }
 ],
 "metadata": {
  "kernelspec": {
   "display_name": "Python 3 (ipykernel)",
   "language": "python",
   "name": "python3"
  },
  "language_info": {
   "codemirror_mode": {
    "name": "ipython",
    "version": 3
   },
   "file_extension": ".py",
   "mimetype": "text/x-python",
   "name": "python",
   "nbconvert_exporter": "python",
   "pygments_lexer": "ipython3",
   "version": "3.10.8"
  },
  "toc": {
   "base_numbering": 1,
   "nav_menu": {},
   "number_sections": true,
   "sideBar": true,
   "skip_h1_title": false,
   "title_cell": "Table of Contents",
   "title_sidebar": "Contents",
   "toc_cell": false,
   "toc_position": {
    "height": "calc(100% - 180px)",
    "left": "10px",
    "top": "150px",
    "width": "170.391px"
   },
   "toc_section_display": true,
   "toc_window_display": true
  }
 },
 "nbformat": 4,
 "nbformat_minor": 5
}
